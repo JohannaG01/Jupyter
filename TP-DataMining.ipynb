{
 "cells": [
  {
   "cell_type": "markdown",
   "id": "d7ceaa2e-40a6-4ad8-8f56-5b66323728a8",
   "metadata": {},
   "source": []
  },
  {
   "cell_type": "markdown",
   "id": "247ff397-c6c1-49b4-98b2-db36b39f996b",
   "metadata": {},
   "source": []
  }
 ],
 "metadata": {
  "kernelspec": {
   "display_name": "Python 3 (ipykernel)",
   "language": "python",
   "name": "python3"
  },
  "language_info": {
   "codemirror_mode": {
    "name": "ipython",
    "version": 3
   },
   "file_extension": ".py",
   "mimetype": "text/x-python",
   "name": "python",
   "nbconvert_exporter": "python",
   "pygments_lexer": "ipython3",
   "version": "3.12.4"
  }
 },
 "nbformat": 4,
 "nbformat_minor": 5
}
